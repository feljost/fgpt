{
 "cells": [
  {
   "cell_type": "code",
   "execution_count": null,
   "id": "05f8a341",
   "metadata": {},
   "outputs": [],
   "source": [
    "import glob\n",
    "import os\n",
    "import json\n",
    "import matplotlib.pyplot as plt\n",
    "import matplotlib.ticker as mticker\n",
    "import pandas as pd\n",
    "\n",
    "# Load the contents\n",
    "with open(\"train_metrics_20251004_0846.jsonl\", \"r\") as f:\n",
    "    train_metrics = [json.loads(line) for line in f]\n",
    "\n",
    "df_metrics = pd.DataFrame(train_metrics)\n",
    "df_metrics"
   ]
  },
  {
   "cell_type": "code",
   "execution_count": null,
   "id": "d47df6ea",
   "metadata": {},
   "outputs": [],
   "source": [
    "# Training Loss Figure\n",
    "fig1, ax1 = plt.subplots(figsize=(10, 5), facecolor='white')\n",
    "ax1.plot(df_metrics['step'], df_metrics['train_loss'], color='tab:blue', label='Train Loss')\n",
    "ax1.plot(df_metrics['step'][df_metrics['val_loss'].notna()], \n",
    "         df_metrics['val_loss'][df_metrics['val_loss'].notna()], \n",
    "         color='tab:orange', label='Validation Loss', zorder=4)\n",
    "ax1.legend()\n",
    "ax1.yaxis.grid(True, which='both', linestyle='--', linewidth=0.5)\n",
    "ax1.xaxis.set_major_locator(mticker.AutoLocator())\n",
    "ax1.xaxis.set_minor_locator(mticker.AutoMinorLocator())\n",
    "ax1.xaxis.grid(True, which='both', linestyle=':', linewidth=0.5)\n",
    "ax1.set_yscale('log')\n",
    "ax1.set_ylabel('Loss')\n",
    "ax1.set_title('Training Loss')\n",
    "ax1.grid(True)\n",
    "fig1.patch.set_facecolor('white')\n",
    "plt.tight_layout()\n",
    "plt.show()\n",
    "\n",
    "# Learning Rate Figure\n",
    "fig2, ax2 = plt.subplots(figsize=(10, 5))\n",
    "ax2.plot(df_metrics['step'], df_metrics['lr'], color='tab:green')\n",
    "ax2.set_xlabel('Step')\n",
    "ax2.set_ylabel('Learning Rate')\n",
    "ax2.set_title('Learning Rate by Step')\n",
    "ax2.grid(True)\n",
    "plt.tight_layout()\n",
    "plt.show()\n",
    "\n",
    "# Hellaswag Eval Accuracy Figure\n",
    "fig3, ax3 = plt.subplots(figsize=(10, 5))\n",
    "ax3.plot(df_metrics['step'][df_metrics['hellaswag_acc'].notna()], \n",
    "         df_metrics['hellaswag_acc'][df_metrics['hellaswag_acc'].notna()], \n",
    "         color='tab:blue')\n",
    "ax3.set_ylabel('Hellaswag Accuracy')\n",
    "ax3.set_title('Hellaswag Eval Accuracy by Step')\n",
    "ax3.grid(True)\n",
    "ax3.set_ylim(bottom=0.23, top=0.29)\n",
    "plt.tight_layout()\n",
    "plt.show()\n"
   ]
  },
  {
   "cell_type": "code",
   "execution_count": null,
   "id": "4c1bde0b",
   "metadata": {},
   "outputs": [],
   "source": [
    "# Plot Norm\n",
    "fig_norm, ax_norm = plt.subplots(figsize=(10, 5))\n",
    "ax_norm.plot(df_metrics['step'], df_metrics['norm'], color='tab:orange', label='Norm')\n",
    "ax_norm.set_xlabel('Step')\n",
    "ax_norm.set_ylabel('Norm')\n",
    "ax_norm.set_title('Gradient Norm by Step')\n",
    "ax_norm.grid(True)\n",
    "ax_norm.legend()\n",
    "plt.tight_layout()\n",
    "plt.show()\n"
   ]
  }
 ],
 "metadata": {
  "kernelspec": {
   "display_name": "Python 3",
   "language": "python",
   "name": "python3"
  },
  "language_info": {
   "codemirror_mode": {
    "name": "ipython",
    "version": 3
   },
   "file_extension": ".py",
   "mimetype": "text/x-python",
   "name": "python",
   "nbconvert_exporter": "python",
   "pygments_lexer": "ipython3",
   "version": "3.10.12"
  }
 },
 "nbformat": 4,
 "nbformat_minor": 5
}
